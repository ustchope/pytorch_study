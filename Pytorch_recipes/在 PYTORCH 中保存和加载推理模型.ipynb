{
 "cells": [
  {
   "cell_type": "code",
   "execution_count": 1,
   "id": "08e7630f",
   "metadata": {},
   "outputs": [
    {
     "name": "stdout",
     "output_type": "stream",
     "text": [
      "time: 275 ms (started: 2021-09-05 13:43:17 +08:00)\n"
     ]
    }
   ],
   "source": [
    "# 自动计算cell的计算时间\n",
    "%load_ext autotime\n",
    "\n",
    "%matplotlib inline\n",
    "%config InlineBackend.figure_format='svg' #矢量图设置，让绘图更清晰"
   ]
  },
  {
   "cell_type": "code",
   "execution_count": 2,
   "id": "0c0c62c8",
   "metadata": {},
   "outputs": [
    {
     "name": "stdout",
     "output_type": "stream",
     "text": [
      "origin\tgit@github.com:ustchope/pytorch_study.git (fetch)\n",
      "origin\tgit@github.com:ustchope/pytorch_study.git (push)\n",
      "[master 0c11324] 更新 #3 Sept 05, 2021\n",
      " 8 files changed, 9469 insertions(+), 4 deletions(-)\n",
      " create mode 100644 \"Pytorch_recipes/.ipynb_checkpoints/\\344\\273\\200\\344\\271\\210\\346\\230\\257 PYTORCH \\344\\270\\255\\347\\232\\204 STATE_DICT-checkpoint.ipynb\"\n",
      " create mode 100644 \"Pytorch_recipes/.ipynb_checkpoints/\\345\\234\\250 PYTORCH \\344\\270\\255\\344\\277\\235\\345\\255\\230\\345\\222\\214\\345\\212\\240\\350\\275\\275\\346\\216\\250\\347\\220\\206\\346\\250\\241\\345\\236\\213-checkpoint.ipynb\"\n",
      " create mode 100644 \"Pytorch_recipes/.ipynb_checkpoints/\\345\\234\\250 PYTORCH \\344\\270\\255\\345\\256\\232\\344\\271\\211\\347\\245\\236\\347\\273\\217\\347\\275\\221\\347\\273\\234-checkpoint.ipynb\"\n",
      " create mode 100644 \"Pytorch_recipes/\\344\\273\\200\\344\\271\\210\\346\\230\\257 PYTORCH \\344\\270\\255\\347\\232\\204 STATE_DICT.ipynb\"\n",
      " create mode 100644 \"Pytorch_recipes/\\345\\234\\250 PYTORCH \\344\\270\\255\\344\\277\\235\\345\\255\\230\\345\\222\\214\\345\\212\\240\\350\\275\\275\\346\\216\\250\\347\\220\\206\\346\\250\\241\\345\\236\\213.ipynb\"\n",
      " create mode 100644 \"Pytorch_recipes/\\345\\234\\250 PYTORCH \\344\\270\\255\\345\\256\\232\\344\\271\\211\\347\\245\\236\\347\\273\\217\\347\\275\\221\\347\\273\\234.ipynb\"\n"
     ]
    },
    {
     "name": "stderr",
     "output_type": "stream",
     "text": [
      "To github.com:ustchope/pytorch_study.git\n",
      "   aff92ce..0c11324  master -> master\n"
     ]
    },
    {
     "name": "stdout",
     "output_type": "stream",
     "text": [
      "time: 4.69 s (started: 2021-09-05 13:43:23 +08:00)\n"
     ]
    }
   ],
   "source": [
    "%%bash\n",
    "\n",
    "# 增加更新\n",
    "git add *.ipynb */*.ipynb\n",
    "\n",
    "git remote -v\n",
    "\n",
    "git commit -m '更新 #3 Sept 05, 2021'\n",
    "\n",
    "#git push origin master\n",
    "git push"
   ]
  },
  {
   "cell_type": "markdown",
   "id": "dbe3c2fd",
   "metadata": {},
   "source": [
    "在 PyTorch 中有两种保存和加载模型以进行推理的方法。第一个是保存和加载 state_dict，第二个是保存和加载整个模型。\n",
    "\n",
    "# 介绍\n",
    "\n",
    "使用 torch.save() 函数保存模型的 state_dict 将为您以后恢复模型提供最大的灵活性。这是保存模型的推荐方法，因为只有真正需要保存训练模型的学习参数。保存和加载整个模型时，您可以使用 Python 的 pickle 模块保存整个模块。使用这种方法会产生最直观的语法并涉及最少的代码。这种方法的缺点是序列化的数据绑定到特定的类和保存模型时使用的确切目录结构。这样做的原因是 pickle 不保存模型类本身。相反，它保存包含类的文件的路径，该路径在加载时使用。因此，您的代码在其他项目中使用或在重构后可能会以各种方式中断。在这个秘籍中，我们将探讨如何保存和加载模型以进行推理的两种方法。"
   ]
  },
  {
   "cell_type": "markdown",
   "id": "c6c91047",
   "metadata": {},
   "source": [
    "# 步骤\n",
    "* 导入所有必要的库以加载我们的数据\n",
    "* 定义并初始化神经网络\n",
    "* 初始化优化器\n",
    "* 通过 state_dict 保存和加载模型\n",
    "* 保存并加载整个模型"
   ]
  },
  {
   "cell_type": "markdown",
   "id": "b71ac012",
   "metadata": {},
   "source": [
    "1. 导入必要的库来加载我们的数据\n",
    "\n",
    "对于这个秘籍，我们将使用 torch 及其子公司 torch.nn 和 torch.optim。"
   ]
  },
  {
   "cell_type": "code",
   "execution_count": 3,
   "id": "2322cb2e",
   "metadata": {},
   "outputs": [
    {
     "name": "stdout",
     "output_type": "stream",
     "text": [
      "time: 704 ms (started: 2021-09-05 13:44:26 +08:00)\n"
     ]
    }
   ],
   "source": [
    "import torch\n",
    "import torch.nn as nn\n",
    "import torch.optim as optim"
   ]
  },
  {
   "cell_type": "markdown",
   "id": "45e5b3c8",
   "metadata": {},
   "source": [
    "2. 定义并初始化神经网络\n",
    "\n",
    "例如，我们将创建一个用于训练图像的神经网络。 要了解更多信息，请参阅定义神经网络食谱。"
   ]
  },
  {
   "cell_type": "code",
   "execution_count": 4,
   "id": "bf377a74",
   "metadata": {},
   "outputs": [
    {
     "name": "stdout",
     "output_type": "stream",
     "text": [
      "Net(\n",
      "  (conv1): Conv2d(3, 6, kernel_size=(5, 5), stride=(1, 1))\n",
      "  (pool): MaxPool2d(kernel_size=2, stride=2, padding=0, dilation=1, ceil_mode=False)\n",
      "  (conv2): Conv2d(6, 16, kernel_size=(5, 5), stride=(1, 1))\n",
      "  (fc1): Linear(in_features=400, out_features=120, bias=True)\n",
      "  (fc2): Linear(in_features=120, out_features=84, bias=True)\n",
      "  (fc3): Linear(in_features=84, out_features=10, bias=True)\n",
      ")\n",
      "time: 28.6 ms (started: 2021-09-05 13:44:55 +08:00)\n"
     ]
    }
   ],
   "source": [
    "class Net(nn.Module):\n",
    "    def __init__(self):\n",
    "        super(Net, self).__init__()\n",
    "        self.conv1 = nn.Conv2d(3, 6, 5)\n",
    "        self.pool = nn.MaxPool2d(2, 2)\n",
    "        self.conv2 = nn.Conv2d(6, 16, 5)\n",
    "        self.fc1 = nn.Linear(16 * 5 * 5, 120)\n",
    "        self.fc2 = nn.Linear(120, 84)\n",
    "        self.fc3 = nn.Linear(84, 10)\n",
    "\n",
    "    def forward(self, x):\n",
    "        x = self.pool(F.relu(self.conv1(x)))\n",
    "        x = self.pool(F.relu(self.conv2(x)))\n",
    "        x = x.view(-1, 16 * 5 * 5)\n",
    "        x = F.relu(self.fc1(x))\n",
    "        x = F.relu(self.fc2(x))\n",
    "        x = self.fc3(x)\n",
    "        return x\n",
    "\n",
    "net = Net()\n",
    "print(net)"
   ]
  },
  {
   "cell_type": "markdown",
   "id": "14bdd89b",
   "metadata": {},
   "source": [
    "3。 初始化优化器\n",
    "\n",
    "我们将使用动量的 SGD。"
   ]
  },
  {
   "cell_type": "code",
   "execution_count": 5,
   "id": "7beb63b9",
   "metadata": {},
   "outputs": [
    {
     "name": "stdout",
     "output_type": "stream",
     "text": [
      "time: 1.08 ms (started: 2021-09-05 13:45:18 +08:00)\n"
     ]
    }
   ],
   "source": [
    "optimizer = optim.SGD(net.parameters(), lr=0.001, momentum=0.9)"
   ]
  },
  {
   "cell_type": "markdown",
   "id": "27d93535",
   "metadata": {},
   "source": [
    "4. 通过 state_dict 保存和加载模型\n",
    "\n",
    "让我们只使用 state_dict 来保存和加载我们的模型。"
   ]
  },
  {
   "cell_type": "code",
   "execution_count": 6,
   "id": "f9c87118",
   "metadata": {},
   "outputs": [
    {
     "data": {
      "text/plain": [
       "Net(\n",
       "  (conv1): Conv2d(3, 6, kernel_size=(5, 5), stride=(1, 1))\n",
       "  (pool): MaxPool2d(kernel_size=2, stride=2, padding=0, dilation=1, ceil_mode=False)\n",
       "  (conv2): Conv2d(6, 16, kernel_size=(5, 5), stride=(1, 1))\n",
       "  (fc1): Linear(in_features=400, out_features=120, bias=True)\n",
       "  (fc2): Linear(in_features=120, out_features=84, bias=True)\n",
       "  (fc3): Linear(in_features=84, out_features=10, bias=True)\n",
       ")"
      ]
     },
     "execution_count": 6,
     "metadata": {},
     "output_type": "execute_result"
    },
    {
     "name": "stdout",
     "output_type": "stream",
     "text": [
      "time: 14.5 ms (started: 2021-09-05 13:45:48 +08:00)\n"
     ]
    }
   ],
   "source": [
    "# 指定路径\n",
    "PATH = \"state_dict_model.pt\"\n",
    "\n",
    "# Save\n",
    "torch.save(net.state_dict(), PATH)\n",
    "\n",
    "# Load\n",
    "model = Net()\n",
    "model.load_state_dict(torch.load(PATH))\n",
    "model.eval()"
   ]
  },
  {
   "cell_type": "markdown",
   "id": "ff00009a",
   "metadata": {},
   "source": [
    "一个常见的 PyTorch 约定是使用 .pt 或 .pth 文件扩展名保存模型。\n",
    "\n",
    "请注意， load_state_dict() 函数采用字典对象，而不是保存对象的路径。 这意味着在将保存的 state_dict 传递给 load_state_dict() 函数之前，您必须对其进行反序列化。 例如，您不能使用 model.load_state_dict(PATH) 加载。\n",
    "\n",
    "还要记住，在运行推理之前，您必须调用 model.eval() 将 dropout 和批量归一化层设置为评估模式。 不这样做会产生不一致的推理结果。"
   ]
  },
  {
   "cell_type": "markdown",
   "id": "c9a9652e",
   "metadata": {},
   "source": [
    "5. 保存和加载整个模型\n",
    "\n",
    "现在让我们对整个模型尝试同样的事情。"
   ]
  },
  {
   "cell_type": "code",
   "execution_count": 7,
   "id": "7619782e",
   "metadata": {},
   "outputs": [
    {
     "data": {
      "text/plain": [
       "Net(\n",
       "  (conv1): Conv2d(3, 6, kernel_size=(5, 5), stride=(1, 1))\n",
       "  (pool): MaxPool2d(kernel_size=2, stride=2, padding=0, dilation=1, ceil_mode=False)\n",
       "  (conv2): Conv2d(6, 16, kernel_size=(5, 5), stride=(1, 1))\n",
       "  (fc1): Linear(in_features=400, out_features=120, bias=True)\n",
       "  (fc2): Linear(in_features=120, out_features=84, bias=True)\n",
       "  (fc3): Linear(in_features=84, out_features=10, bias=True)\n",
       ")"
      ]
     },
     "execution_count": 7,
     "metadata": {},
     "output_type": "execute_result"
    },
    {
     "name": "stdout",
     "output_type": "stream",
     "text": [
      "time: 8.58 ms (started: 2021-09-05 13:47:06 +08:00)\n"
     ]
    }
   ],
   "source": [
    "# Specify a path\n",
    "PATH = \"entire_model.pt\"\n",
    "\n",
    "# Save\n",
    "torch.save(net, PATH)\n",
    "\n",
    "# Load\n",
    "model = torch.load(PATH)\n",
    "model.eval()"
   ]
  },
  {
   "cell_type": "markdown",
   "id": "55822326",
   "metadata": {},
   "source": [
    "同样，请记住，在运行推理之前，您必须调用 model.eval() 将 dropout 和批量归一化层设置为评估模式。\n",
    "\n",
    "恭喜！ 您已成功保存和加载模型以在 PyTorch 中进行推理。"
   ]
  },
  {
   "cell_type": "code",
   "execution_count": null,
   "id": "d1a6da34",
   "metadata": {},
   "outputs": [],
   "source": []
  }
 ],
 "metadata": {
  "kernelspec": {
   "display_name": "Python [conda env:torch19]",
   "language": "python",
   "name": "conda-env-torch19-py"
  },
  "language_info": {
   "codemirror_mode": {
    "name": "ipython",
    "version": 3
   },
   "file_extension": ".py",
   "mimetype": "text/x-python",
   "name": "python",
   "nbconvert_exporter": "python",
   "pygments_lexer": "ipython3",
   "version": "3.9.2"
  }
 },
 "nbformat": 4,
 "nbformat_minor": 5
}
