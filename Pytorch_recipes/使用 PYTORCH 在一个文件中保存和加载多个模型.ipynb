{
 "cells": [
  {
   "cell_type": "code",
   "execution_count": 1,
   "id": "dce6d33b",
   "metadata": {},
   "outputs": [
    {
     "name": "stdout",
     "output_type": "stream",
     "text": [
      "time: 282 ms (started: 2021-09-05 13:56:47 +08:00)\n"
     ]
    }
   ],
   "source": [
    "# 自动计算cell的计算时间\n",
    "%load_ext autotime\n",
    "\n",
    "%matplotlib inline\n",
    "%config InlineBackend.figure_format='svg' #矢量图设置，让绘图更清晰"
   ]
  },
  {
   "cell_type": "code",
   "execution_count": null,
   "id": "af5a6135",
   "metadata": {},
   "outputs": [],
   "source": [
    "%%bash\n",
    "\n",
    "# 增加更新\n",
    "git add *.ipynb */*.ipynb\n",
    "\n",
    "git remote -v\n",
    "\n",
    "git commit -m '更新 #5 Sept 05, 2021'\n",
    "\n",
    "#git push origin master\n",
    "git push"
   ]
  },
  {
   "cell_type": "markdown",
   "id": "ded5c279",
   "metadata": {},
   "source": [
    "保存和加载多个模型有助于重用您之前训练过的模型。\n",
    "\n",
    "# 介绍\n",
    "\n",
    "保存由多个 torch.nn.Modules 组成的模型时，例如 GAN、序列到序列模型或模型集合，您必须保存每个模型的 state_dict 和相应优化器的字典。 您还可以通过简单地将它们附加到字典来保存可能有助于您恢复训练的任何其他项目。 要加载模型，首先初始化模型和优化器，然后使用 torch.load() 在本地加载字典。 从这里，您可以通过简单地按预期查询字典来轻松访问保存的项目。 在这个秘籍中，我们将演示如何使用 PyTorch 将多个模型保存到一个文件中。"
   ]
  },
  {
   "cell_type": "markdown",
   "id": "16732e96",
   "metadata": {},
   "source": [
    "# 步骤\n",
    "* 导入所有必要的库以加载我们的数据\n",
    "* 定义并初始化神经网络\n",
    "* 初始化优化器\n",
    "* 保存多个模型\n",
    "* 加载多个模型\n",
    "\n",
    "1. 导入必要的库来加载我们的数据"
   ]
  },
  {
   "cell_type": "code",
   "execution_count": 2,
   "id": "109283db",
   "metadata": {},
   "outputs": [
    {
     "name": "stdout",
     "output_type": "stream",
     "text": [
      "time: 711 ms (started: 2021-09-05 13:59:08 +08:00)\n"
     ]
    }
   ],
   "source": [
    "import torch\n",
    "import torch.nn as nn\n",
    "import torch.optim as optim"
   ]
  },
  {
   "cell_type": "markdown",
   "id": "2a619114",
   "metadata": {},
   "source": [
    "2. 定义并初始化神经网络\n",
    "\n",
    "例如，我们将创建一个用于训练图像的神经网络。 要了解更多信息，请参阅定义神经网络食谱。 为模型构建两个变量以最终保存。"
   ]
  },
  {
   "cell_type": "code",
   "execution_count": 3,
   "id": "87e85313",
   "metadata": {},
   "outputs": [
    {
     "name": "stdout",
     "output_type": "stream",
     "text": [
      "time: 28.4 ms (started: 2021-09-05 13:59:43 +08:00)\n"
     ]
    }
   ],
   "source": [
    "class Net(nn.Module):\n",
    "    def __init__(self):\n",
    "        super(Net, self).__init__()\n",
    "        self.conv1 = nn.Conv2d(3, 6, 5)\n",
    "        self.pool = nn.MaxPool2d(2, 2)\n",
    "        self.conv2 = nn.Conv2d(6, 16, 5)\n",
    "        self.fc1 = nn.Linear(16 * 5 * 5, 120)\n",
    "        self.fc2 = nn.Linear(120, 84)\n",
    "        self.fc3 = nn.Linear(84, 10)\n",
    "\n",
    "    def forward(self, x):\n",
    "        x = self.pool(F.relu(self.conv1(x)))\n",
    "        x = self.pool(F.relu(self.conv2(x)))\n",
    "        x = x.view(-1, 16 * 5 * 5)\n",
    "        x = F.relu(self.fc1(x))\n",
    "        x = F.relu(self.fc2(x))\n",
    "        x = self.fc3(x)\n",
    "        return x\n",
    "\n",
    "netA = Net()\n",
    "netB = Net()"
   ]
  },
  {
   "cell_type": "markdown",
   "id": "813160ac",
   "metadata": {},
   "source": [
    "3. 初始化优化器\n",
    "\n",
    "我们将使用带有动量的 SGD 为我们创建的每个模型构建优化器。"
   ]
  },
  {
   "cell_type": "code",
   "execution_count": 4,
   "id": "8ae5cb07",
   "metadata": {},
   "outputs": [
    {
     "name": "stdout",
     "output_type": "stream",
     "text": [
      "time: 1.43 ms (started: 2021-09-05 14:00:15 +08:00)\n"
     ]
    }
   ],
   "source": [
    "optimizerA = optim.SGD(netA.parameters(), lr=0.001, momentum=0.9)\n",
    "optimizerB = optim.SGD(netB.parameters(), lr=0.001, momentum=0.9)"
   ]
  },
  {
   "cell_type": "markdown",
   "id": "e68fd6b7",
   "metadata": {},
   "source": [
    "4. 保存多个模型\n",
    "\n",
    "收集所有相关信息并构建您的字典。"
   ]
  },
  {
   "cell_type": "code",
   "execution_count": 5,
   "id": "d8190507",
   "metadata": {},
   "outputs": [
    {
     "name": "stdout",
     "output_type": "stream",
     "text": [
      "time: 6.74 ms (started: 2021-09-05 14:00:56 +08:00)\n"
     ]
    }
   ],
   "source": [
    "# Specify a path to save to\n",
    "PATH = \"model.pt\"\n",
    "\n",
    "torch.save({\n",
    "            'modelA_state_dict': netA.state_dict(),\n",
    "            'modelB_state_dict': netB.state_dict(),\n",
    "            'optimizerA_state_dict': optimizerA.state_dict(),\n",
    "            'optimizerB_state_dict': optimizerB.state_dict(),\n",
    "            }, PATH)"
   ]
  },
  {
   "cell_type": "markdown",
   "id": "74d6477c",
   "metadata": {},
   "source": [
    "5. 加载多个模型\n",
    "\n",
    "请记住首先初始化模型和优化器，然后在本地加载字典。"
   ]
  },
  {
   "cell_type": "code",
   "execution_count": null,
   "id": "00285892",
   "metadata": {},
   "outputs": [],
   "source": [
    "modelA = Net()\n",
    "modelB = Net()\n",
    "optimModelA = optim.SGD(modelA.parameters(), lr=0.001, momentum=0.9)\n",
    "optimModelB = optim.SGD(modelB.parameters(), lr=0.001, momentum=0.9)\n",
    "\n",
    "checkpoint = torch.load(PATH)\n",
    "modelA.load_state_dict(checkpoint['modelA_state_dict'])\n",
    "modelB.load_state_dict(checkpoint['modelB_state_dict'])\n",
    "optimizerA.load_state_dict(checkpoint['optimizerA_state_dict'])\n",
    "optimizerB.load_state_dict(checkpoint['optimizerB_state_dict'])\n",
    "\n",
    "modelA.eval()\n",
    "modelB.eval()\n",
    "# - or -\n",
    "modelA.train()\n",
    "modelB.train()"
   ]
  },
  {
   "cell_type": "markdown",
   "id": "47ab7bc8",
   "metadata": {},
   "source": [
    "在运行推理之前，您必须调用 model.eval() 将 dropout 和批量归一化层设置为评估模式。 不这样做会产生不一致的推理结果。\n",
    "\n",
    "如果您希望恢复训练，请调用 model.train() 以确保这些层处于训练模式。\n",
    "\n",
    "恭喜！ 您已在 PyTorch 中成功保存和加载多个模型。"
   ]
  },
  {
   "cell_type": "code",
   "execution_count": null,
   "id": "e1113493",
   "metadata": {},
   "outputs": [],
   "source": []
  }
 ],
 "metadata": {
  "kernelspec": {
   "display_name": "Python [conda env:torch19]",
   "language": "python",
   "name": "conda-env-torch19-py"
  },
  "language_info": {
   "codemirror_mode": {
    "name": "ipython",
    "version": 3
   },
   "file_extension": ".py",
   "mimetype": "text/x-python",
   "name": "python",
   "nbconvert_exporter": "python",
   "pygments_lexer": "ipython3",
   "version": "3.9.2"
  }
 },
 "nbformat": 4,
 "nbformat_minor": 5
}
