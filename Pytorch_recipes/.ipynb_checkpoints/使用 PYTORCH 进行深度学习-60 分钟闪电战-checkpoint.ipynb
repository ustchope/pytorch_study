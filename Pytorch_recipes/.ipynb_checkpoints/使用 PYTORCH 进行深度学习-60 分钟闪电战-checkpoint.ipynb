{
 "cells": [
  {
   "cell_type": "code",
   "execution_count": 1,
   "id": "f3a2575b",
   "metadata": {},
   "outputs": [
    {
     "name": "stdout",
     "output_type": "stream",
     "text": [
      "time: 283 ms (started: 2021-09-05 12:56:15 +08:00)\n"
     ]
    }
   ],
   "source": [
    "# 自动计算cell的计算时间\n",
    "%load_ext autotime\n",
    "\n",
    "%matplotlib inline\n",
    "%config InlineBackend.figure_format='svg' #矢量图设置，让绘图更清晰"
   ]
  },
  {
   "cell_type": "code",
   "execution_count": 2,
   "id": "5b00e70d",
   "metadata": {},
   "outputs": [
    {
     "name": "stdout",
     "output_type": "stream",
     "text": [
      "origin\tgit@github.com:ustchope/pytorch_study.git (fetch)\n",
      "origin\tgit@github.com:ustchope/pytorch_study.git (push)\n",
      "[master 9d39e84] 更新 #2 Sept 05, 2021\n",
      " 2 files changed, 12 insertions(+)\n",
      " create mode 100644 \"Pytorch_learning/.ipynb_checkpoints/\\346\\234\\252\\345\\221\\275\\345\\220\\215-checkpoint.ipynb\"\n",
      " create mode 100644 \"Pytorch_learning/\\346\\234\\252\\345\\221\\275\\345\\220\\215.ipynb\"\n"
     ]
    },
    {
     "name": "stderr",
     "output_type": "stream",
     "text": [
      "To github.com:ustchope/pytorch_study.git\n",
      "   b8a3d99..9d39e84  master -> master\n"
     ]
    },
    {
     "name": "stdout",
     "output_type": "stream",
     "text": [
      "time: 3.97 s (started: 2021-09-05 12:56:26 +08:00)\n"
     ]
    }
   ],
   "source": [
    "%%bash\n",
    "\n",
    "# 增加更新\n",
    "git add *.ipynb */*.ipynb\n",
    "\n",
    "git remote -v\n",
    "\n",
    "git commit -m '更新 #2 Sept 05, 2021'\n",
    "\n",
    "#git push origin master\n",
    "git push"
   ]
  },
  {
   "cell_type": "markdown",
   "id": "22e5bf69",
   "metadata": {},
   "source": [
    "# 什么是 PyTorch？\n",
    "\n",
    "PyTorch 是一个基于 Python 的科学计算包，用于两个广泛的目的：\n",
    "\n",
    "替代 NumPy 以使用 GPU 和其他加速器的强大功能。\n",
    "一个用于实现神经网络的自动微分库。"
   ]
  },
  {
   "cell_type": "markdown",
   "id": "68827089",
   "metadata": {},
   "source": [
    "本教程的目标：\n",
    "* 高层次理解 PyTorch 的 Tensor 库和神经网络。\n",
    "* 训练一个小型神经网络来对图像进行分类"
   ]
  },
  {
   "cell_type": "code",
   "execution_count": null,
   "id": "5ea6561c",
   "metadata": {},
   "outputs": [],
   "source": []
  }
 ],
 "metadata": {
  "kernelspec": {
   "display_name": "Python [conda env:torch19]",
   "language": "python",
   "name": "conda-env-torch19-py"
  },
  "language_info": {
   "codemirror_mode": {
    "name": "ipython",
    "version": 3
   },
   "file_extension": ".py",
   "mimetype": "text/x-python",
   "name": "python",
   "nbconvert_exporter": "python",
   "pygments_lexer": "ipython3",
   "version": "3.9.2"
  }
 },
 "nbformat": 4,
 "nbformat_minor": 5
}
