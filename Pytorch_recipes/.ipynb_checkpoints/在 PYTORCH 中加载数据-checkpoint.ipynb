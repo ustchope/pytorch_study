{
 "cells": [
  {
   "cell_type": "code",
   "execution_count": 1,
   "id": "ae97a55d",
   "metadata": {},
   "outputs": [
    {
     "name": "stdout",
     "output_type": "stream",
     "text": [
      "time: 274 ms (started: 2021-09-05 13:09:19 +08:00)\n"
     ]
    }
   ],
   "source": [
    "# 自动计算cell的计算时间\n",
    "%load_ext autotime\n",
    "\n",
    "%matplotlib inline\n",
    "%config InlineBackend.figure_format='svg' #矢量图设置，让绘图更清晰"
   ]
  },
  {
   "cell_type": "code",
   "execution_count": 2,
   "id": "945a8bd2",
   "metadata": {},
   "outputs": [
    {
     "name": "stdout",
     "output_type": "stream",
     "text": [
      "origin\tgit@github.com:ustchope/pytorch_study.git (fetch)\n",
      "origin\tgit@github.com:ustchope/pytorch_study.git (push)\n",
      "[master aff92ce] 更新 #3 Sept 05, 2021\n",
      " 4 files changed, 295 insertions(+)\n",
      " create mode 100644 \"Pytorch_recipes/.ipynb_checkpoints/\\344\\275\\277\\347\\224\\250 PYTORCH \\350\\277\\233\\350\\241\\214\\346\\267\\261\\345\\272\\246\\345\\255\\246\\344\\271\\240-60 \\345\\210\\206\\351\\222\\237\\351\\227\\252\\347\\224\\265\\346\\210\\230-checkpoint.ipynb\"\n",
      " create mode 100644 \"Pytorch_recipes/.ipynb_checkpoints/\\345\\234\\250 PYTORCH \\344\\270\\255\\345\\212\\240\\350\\275\\275\\346\\225\\260\\346\\215\\256-checkpoint.ipynb\"\n",
      " create mode 100644 \"Pytorch_recipes/\\344\\275\\277\\347\\224\\250 PYTORCH \\350\\277\\233\\350\\241\\214\\346\\267\\261\\345\\272\\246\\345\\255\\246\\344\\271\\240-60 \\345\\210\\206\\351\\222\\237\\351\\227\\252\\347\\224\\265\\346\\210\\230.ipynb\"\n",
      " create mode 100644 \"Pytorch_recipes/\\345\\234\\250 PYTORCH \\344\\270\\255\\345\\212\\240\\350\\275\\275\\346\\225\\260\\346\\215\\256.ipynb\"\n"
     ]
    },
    {
     "name": "stderr",
     "output_type": "stream",
     "text": [
      "To github.com:ustchope/pytorch_study.git\n",
      "   9d39e84..aff92ce  master -> master\n"
     ]
    },
    {
     "name": "stdout",
     "output_type": "stream",
     "text": [
      "time: 3.56 s (started: 2021-09-05 13:10:07 +08:00)\n"
     ]
    }
   ],
   "source": [
    "%%bash\n",
    "\n",
    "# 增加更新\n",
    "git add *.ipynb */*.ipynb\n",
    "\n",
    "git remote -v\n",
    "\n",
    "git commit -m '更新 #3 Sept 05, 2021'\n",
    "\n",
    "#git push origin master\n",
    "git push"
   ]
  },
  {
   "cell_type": "markdown",
   "id": "0f0af784",
   "metadata": {},
   "source": [
    "PyTorch 具有广泛的神经网络构建块和简单、直观且稳定的 API。 PyTorch 包含用于为您的模型准备和加载通用数据集的包。\n",
    "\n",
    "# 介绍\n",
    "\n",
    "PyTorch 数据加载实用程序的核心是 torch.utils.data.DataLoader 类。 它代表一个可迭代数据集的 Python。 PyTorch 中的库提供内置的高质量数据集供您在 torch.utils.data.Dataset 中使用。 这些数据集目前可用于：\n",
    "* torchvision\n",
    "* torchaudio\n",
    "* torchtext\n",
    "\n",
    "还有更多。 使用来自 torchaudio.datasets.YESNO 的 Yesno 数据集，我们将演示如何有效且高效地将数据从 PyTorch 数据集加载到 PyTorch DataLoader。"
   ]
  },
  {
   "cell_type": "markdown",
   "id": "03c284dc",
   "metadata": {},
   "source": [
    "# 步骤\n",
    "* 导入所有必要的库以加载我们的数据\n",
    "* 访问数据集中的数据\n",
    "* 加载数据\n",
    "* 迭代数据\n",
    "* [可选] 可视化数据"
   ]
  },
  {
   "cell_type": "markdown",
   "id": "8daa6e32",
   "metadata": {},
   "source": [
    "1. 导入必要的库以加载我们的数据\n",
    "\n",
    "对于这个食谱，我们将使用 torch 和 torchaudio。 根据您使用的内置数据集，您还可以安装和导入 torchvision 或 torchtext。"
   ]
  },
  {
   "cell_type": "code",
   "execution_count": 3,
   "id": "d10ca974",
   "metadata": {},
   "outputs": [
    {
     "name": "stdout",
     "output_type": "stream",
     "text": [
      "time: 817 ms (started: 2021-09-05 13:16:52 +08:00)\n"
     ]
    }
   ],
   "source": [
    "import torch\n",
    "import torchaudio"
   ]
  },
  {
   "cell_type": "markdown",
   "id": "ece45489",
   "metadata": {},
   "source": [
    "2. 访问数据集中的数据\n",
    "\n",
    "torchaudio 中的 Yesno 数据集包含 60 个记录，其中一个人用希伯来语说是或否； 每个录音的长度为 8 个字（在此处阅读更多内容）。\n",
    "\n",
    "torchaudio.datasets.YESNO 为 YesNo 创建数据集。"
   ]
  },
  {
   "cell_type": "code",
   "execution_count": null,
   "id": "b179bd21",
   "metadata": {},
   "outputs": [],
   "source": [
    "torchaudio.datasets.YESNO(\n",
    "     root,\n",
    "     url='http://www.openslr.org/resources/1/waves_yesno.tar.gz',\n",
    "     folder_in_archive='waves_yesno',\n",
    "     download=False,\n",
    "     transform=None,\n",
    "     target_transform=None)"
   ]
  },
  {
   "cell_type": "markdown",
   "id": "4c4ecc31",
   "metadata": {},
   "source": [
    "数据集中的每一项都是以下形式的元组：(waveform, sample_rate, labels)。\n",
    "\n",
    "您必须为 Yesno 数据集设置一个根，这是训练和测试数据集所在的位置。 其他参数是可选的，显示了它们的默认值。 以下是有关其他参数的一些其他有用信息："
   ]
  },
  {
   "cell_type": "code",
   "execution_count": 5,
   "id": "85fb8153",
   "metadata": {},
   "outputs": [
    {
     "data": {
      "application/vnd.jupyter.widget-view+json": {
       "model_id": "830cbaf9bbe64d37bf2c6f80c980e70b",
       "version_major": 2,
       "version_minor": 0
      },
      "text/plain": [
       "  0%|          | 0.00/4.49M [00:00<?, ?B/s]"
      ]
     },
     "metadata": {},
     "output_type": "display_data"
    },
    {
     "name": "stdout",
     "output_type": "stream",
     "text": [
      "Waveform: tensor([[ 3.0518e-05,  6.1035e-05,  3.0518e-05,  ..., -1.8311e-04,\n",
      "          4.2725e-04,  6.7139e-04]])\n",
      "Sample rate: 8000\n",
      "Labels: [0, 0, 1, 0, 0, 0, 1, 0]\n",
      "time: 20.4 s (started: 2021-09-05 13:18:30 +08:00)\n"
     ]
    }
   ],
   "source": [
    "# * ``download``: If true, downloads the dataset from the internet and puts it in root directory. If dataset is already downloaded, it is not downloaded again.\n",
    "# * ``transform``: Using transforms on your data allows you to take it from its source state and transform it into data that’s joined together, de-normalized, and ready for training. Each library in PyTorch supports a growing list of transformations.\n",
    "# * ``target_transform``: A function/transform that takes in the target and transforms it.\n",
    "#\n",
    "# Let’s access our Yesno data:\n",
    "#\n",
    "\n",
    "# A data point in Yesno is a tuple (waveform, sample_rate, labels) where labels\n",
    "# is a list of integers with 1 for yes and 0 for no.\n",
    "yesno_data = torchaudio.datasets.YESNO('./', download=True)\n",
    "\n",
    "# Pick data point number 3 to see an example of the the yesno_data:\n",
    "n = 3\n",
    "waveform, sample_rate, labels = yesno_data[n]\n",
    "print(\"Waveform: {}\\nSample rate: {}\\nLabels: {}\".format(waveform, sample_rate, labels))"
   ]
  },
  {
   "cell_type": "markdown",
   "id": "552feb6d",
   "metadata": {},
   "source": [
    "在实践中使用此数据时，最佳做法是将数据提供到“训练”数据集和“测试”数据集。 这可确保您拥有样本外数据来测试模型的性能。"
   ]
  },
  {
   "cell_type": "markdown",
   "id": "b9b98d2c",
   "metadata": {},
   "source": [
    "3. 加载数据\n",
    "\n",
    "现在我们可以访问数据集，我们必须通过 torch.utils.data.DataLoader 传递它。 DataLoader 将数据集和采样器组合在一起，返回数据集上的可迭代对象。"
   ]
  },
  {
   "cell_type": "code",
   "execution_count": 6,
   "id": "57a7a12e",
   "metadata": {},
   "outputs": [
    {
     "name": "stdout",
     "output_type": "stream",
     "text": [
      "time: 1.89 ms (started: 2021-09-05 13:19:23 +08:00)\n"
     ]
    }
   ],
   "source": [
    "data_loader = torch.utils.data.DataLoader(yesno_data,\n",
    "                                          batch_size=1,\n",
    "                                          shuffle=True)"
   ]
  },
  {
   "cell_type": "markdown",
   "id": "c1e2909a",
   "metadata": {},
   "source": [
    "4. 迭代数据\n",
    "\n",
    "我们的数据现在可以使用 data_loader 进行迭代。 当我们开始训练我们的模型时，这将是必要的！ 您会注意到，现在 data_loader 对象中的每个数据条目都被转换为一个张量，其中包含代表我们的波形、采样率和标签的张量。"
   ]
  },
  {
   "cell_type": "code",
   "execution_count": 7,
   "id": "2cdf0c91",
   "metadata": {},
   "outputs": [
    {
     "name": "stdout",
     "output_type": "stream",
     "text": [
      "Data:  [tensor([[[-3.0518e-05,  3.0518e-05,  3.0518e-05,  ..., -1.7395e-03,\n",
      "          -4.0283e-03, -5.0964e-03]]]), tensor([8000]), [tensor([1]), tensor([0]), tensor([0]), tensor([0]), tensor([0]), tensor([0]), tensor([0]), tensor([0])]]\n",
      "Waveform: tensor([[[-3.0518e-05,  3.0518e-05,  3.0518e-05,  ..., -1.7395e-03,\n",
      "          -4.0283e-03, -5.0964e-03]]])\n",
      "Sample rate: tensor([8000])\n",
      "Labels: [tensor([1]), tensor([0]), tensor([0]), tensor([0]), tensor([0]), tensor([0]), tensor([0]), tensor([0])]\n",
      "time: 12.1 ms (started: 2021-09-05 13:20:10 +08:00)\n"
     ]
    }
   ],
   "source": [
    "for data in data_loader:\n",
    "  print(\"Data: \", data)\n",
    "  print(\"Waveform: {}\\nSample rate: {}\\nLabels: {}\".format(data[0], data[1], data[2]))\n",
    "  break"
   ]
  },
  {
   "cell_type": "markdown",
   "id": "6d4486bc",
   "metadata": {},
   "source": [
    "5. [可选] 可视化数据"
   ]
  },
  {
   "cell_type": "code",
   "execution_count": null,
   "id": "43cb6f8a",
   "metadata": {},
   "outputs": [],
   "source": []
  }
 ],
 "metadata": {
  "kernelspec": {
   "display_name": "Python [conda env:torch19]",
   "language": "python",
   "name": "conda-env-torch19-py"
  },
  "language_info": {
   "codemirror_mode": {
    "name": "ipython",
    "version": 3
   },
   "file_extension": ".py",
   "mimetype": "text/x-python",
   "name": "python",
   "nbconvert_exporter": "python",
   "pygments_lexer": "ipython3",
   "version": "3.9.2"
  }
 },
 "nbformat": 4,
 "nbformat_minor": 5
}
