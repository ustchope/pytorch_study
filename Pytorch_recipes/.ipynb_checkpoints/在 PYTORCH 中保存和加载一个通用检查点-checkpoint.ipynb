{
 "cells": [
  {
   "cell_type": "code",
   "execution_count": 1,
   "id": "2ca5da71",
   "metadata": {},
   "outputs": [
    {
     "name": "stdout",
     "output_type": "stream",
     "text": [
      "time: 269 ms (started: 2021-09-05 13:48:39 +08:00)\n"
     ]
    }
   ],
   "source": [
    "# 自动计算cell的计算时间\n",
    "%load_ext autotime\n",
    "\n",
    "%matplotlib inline\n",
    "%config InlineBackend.figure_format='svg' #矢量图设置，让绘图更清晰"
   ]
  },
  {
   "cell_type": "code",
   "execution_count": 2,
   "id": "91b698c7",
   "metadata": {},
   "outputs": [
    {
     "name": "stdout",
     "output_type": "stream",
     "text": [
      "origin\tgit@github.com:ustchope/pytorch_study.git (fetch)\n",
      "origin\tgit@github.com:ustchope/pytorch_study.git (push)\n",
      "[master a5a4893] 更新 #3 Sept 05, 2021\n",
      " 4 files changed, 718 insertions(+), 4 deletions(-)\n",
      " create mode 100644 \"Pytorch_recipes/.ipynb_checkpoints/\\345\\234\\250 PYTORCH \\344\\270\\255\\344\\277\\235\\345\\255\\230\\345\\222\\214\\345\\212\\240\\350\\275\\275\\344\\270\\200\\344\\270\\252\\351\\200\\232\\347\\224\\250\\346\\243\\200\\346\\237\\245\\347\\202\\271-checkpoint.ipynb\"\n",
      " create mode 100644 \"Pytorch_recipes/\\345\\234\\250 PYTORCH \\344\\270\\255\\344\\277\\235\\345\\255\\230\\345\\222\\214\\345\\212\\240\\350\\275\\275\\344\\270\\200\\344\\270\\252\\351\\200\\232\\347\\224\\250\\346\\243\\200\\346\\237\\245\\347\\202\\271.ipynb\"\n"
     ]
    },
    {
     "name": "stderr",
     "output_type": "stream",
     "text": [
      "To github.com:ustchope/pytorch_study.git\n",
      "   0c11324..a5a4893  master -> master\n"
     ]
    },
    {
     "name": "stdout",
     "output_type": "stream",
     "text": [
      "time: 3.53 s (started: 2021-09-05 13:48:46 +08:00)\n"
     ]
    }
   ],
   "source": [
    "%%bash\n",
    "\n",
    "# 增加更新\n",
    "git add *.ipynb */*.ipynb\n",
    "\n",
    "git remote -v\n",
    "\n",
    "git commit -m '更新 #3 Sept 05, 2021'\n",
    "\n",
    "#git push origin master\n",
    "git push"
   ]
  },
  {
   "cell_type": "markdown",
   "id": "038dcbf0",
   "metadata": {},
   "source": [
    "保存和加载用于推理或恢复训练的通用检查点模型有助于从上次停止的地方开始。保存一般检查点时，您必须保存的不仅仅是模型的 state_dict。保存优化器的 state_dict 也很重要，因为它包含在模型训练时更新的缓冲区和参数。您可能想要保存的其他项目包括您离开的 epoch、最新记录的训练损失、外部 torch.nn.Embedding 层等，基于您自己的算法。\n",
    "\n",
    "# 介绍\n",
    "\n",
    "要保存多个检查点，您必须将它们组织在字典中并使用 torch.save() 序列化字典。一个常见的 PyTorch 约定是使用 .tar 文件扩展名保存这些检查点。要加载项目，首先初始化模型和优化器，然后使用 torch.load() 在本地加载字典。从这里，您可以通过简单地按预期查询字典来轻松访问保存的项目。\n",
    "\n",
    "在这个秘籍中，我们将探索如何保存和加载多个检查点。"
   ]
  },
  {
   "cell_type": "markdown",
   "id": "7d4a4a3a",
   "metadata": {},
   "source": [
    "# 步骤\n",
    "* 导入所有必要的库以加载我们的数据\n",
    "* 定义并初始化神经网络\n",
    "* 初始化优化器\n",
    "* 保存一般检查点\n",
    "* 加载通用检查点"
   ]
  },
  {
   "cell_type": "markdown",
   "id": "03283ed1",
   "metadata": {},
   "source": [
    "1. 导入必要的库来加载我们的数据\n",
    "\n",
    "对于这个秘籍，我们将使用 torch 及其子模块 torch.nn 和 torch.optim。"
   ]
  },
  {
   "cell_type": "code",
   "execution_count": 3,
   "id": "c2f8e7e3",
   "metadata": {},
   "outputs": [
    {
     "name": "stdout",
     "output_type": "stream",
     "text": [
      "time: 690 ms (started: 2021-09-05 13:50:05 +08:00)\n"
     ]
    }
   ],
   "source": [
    "import torch\n",
    "import torch.nn as nn\n",
    "import torch.optim as optim"
   ]
  },
  {
   "cell_type": "markdown",
   "id": "f2ca16fa",
   "metadata": {},
   "source": [
    "2. 定义并初始化神经网络\n",
    "\n",
    "例如，我们将创建一个用于训练图像的神经网络。 要了解更多信息，请参阅定义神经网络食谱。"
   ]
  },
  {
   "cell_type": "code",
   "execution_count": 4,
   "id": "75055b40",
   "metadata": {},
   "outputs": [
    {
     "name": "stdout",
     "output_type": "stream",
     "text": [
      "Net(\n",
      "  (conv1): Conv2d(3, 6, kernel_size=(5, 5), stride=(1, 1))\n",
      "  (pool): MaxPool2d(kernel_size=2, stride=2, padding=0, dilation=1, ceil_mode=False)\n",
      "  (conv2): Conv2d(6, 16, kernel_size=(5, 5), stride=(1, 1))\n",
      "  (fc1): Linear(in_features=400, out_features=120, bias=True)\n",
      "  (fc2): Linear(in_features=120, out_features=84, bias=True)\n",
      "  (fc3): Linear(in_features=84, out_features=10, bias=True)\n",
      ")\n",
      "time: 29.4 ms (started: 2021-09-05 13:50:30 +08:00)\n"
     ]
    }
   ],
   "source": [
    "class Net(nn.Module):\n",
    "    def __init__(self):\n",
    "        super(Net, self).__init__()\n",
    "        self.conv1 = nn.Conv2d(3, 6, 5)\n",
    "        self.pool = nn.MaxPool2d(2, 2)\n",
    "        self.conv2 = nn.Conv2d(6, 16, 5)\n",
    "        self.fc1 = nn.Linear(16 * 5 * 5, 120)\n",
    "        self.fc2 = nn.Linear(120, 84)\n",
    "        self.fc3 = nn.Linear(84, 10)\n",
    "\n",
    "    def forward(self, x):\n",
    "        x = self.pool(F.relu(self.conv1(x)))\n",
    "        x = self.pool(F.relu(self.conv2(x)))\n",
    "        x = x.view(-1, 16 * 5 * 5)\n",
    "        x = F.relu(self.fc1(x))\n",
    "        x = F.relu(self.fc2(x))\n",
    "        x = self.fc3(x)\n",
    "        return x\n",
    "\n",
    "net = Net()\n",
    "print(net)"
   ]
  },
  {
   "cell_type": "markdown",
   "id": "975dae45",
   "metadata": {},
   "source": [
    "3. 初始化优化器\n",
    "\n",
    "我们将使用动量的 SGD。"
   ]
  },
  {
   "cell_type": "code",
   "execution_count": 5,
   "id": "06f422cf",
   "metadata": {},
   "outputs": [
    {
     "name": "stdout",
     "output_type": "stream",
     "text": [
      "time: 1.13 ms (started: 2021-09-05 13:50:59 +08:00)\n"
     ]
    }
   ],
   "source": [
    "optimizer = optim.SGD(net.parameters(), lr=0.001, momentum=0.9)"
   ]
  },
  {
   "cell_type": "markdown",
   "id": "4de571c2",
   "metadata": {},
   "source": [
    "4. 保存一般检查点\n",
    "\n",
    "收集所有相关信息并构建您的字典。"
   ]
  },
  {
   "cell_type": "code",
   "execution_count": 6,
   "id": "f0492269",
   "metadata": {},
   "outputs": [
    {
     "name": "stdout",
     "output_type": "stream",
     "text": [
      "time: 4.72 ms (started: 2021-09-05 13:53:11 +08:00)\n"
     ]
    }
   ],
   "source": [
    "# Additional information\n",
    "EPOCH = 5\n",
    "PATH = \"model.pt\"\n",
    "LOSS = 0.4\n",
    "\n",
    "torch.save({\n",
    "            'epoch': EPOCH,\n",
    "            'model_state_dict': net.state_dict(),\n",
    "            'optimizer_state_dict': optimizer.state_dict(),\n",
    "            'loss': LOSS,\n",
    "            }, PATH)"
   ]
  },
  {
   "cell_type": "markdown",
   "id": "32976ae2",
   "metadata": {},
   "source": [
    "5. 加载通用检查点\n",
    "\n",
    "记得先初始化模型和优化器，然后在本地加载字典。"
   ]
  },
  {
   "cell_type": "code",
   "execution_count": null,
   "id": "5eab79d4",
   "metadata": {},
   "outputs": [],
   "source": [
    "model = Net()\n",
    "optimizer = optim.SGD(net.parameters(), lr=0.001, momentum=0.9)\n",
    "\n",
    "checkpoint = torch.load(PATH)\n",
    "model.load_state_dict(checkpoint['model_state_dict'])\n",
    "optimizer.load_state_dict(checkpoint['optimizer_state_dict'])\n",
    "epoch = checkpoint['epoch']\n",
    "loss = checkpoint['loss']\n",
    "\n",
    "model.eval()\n",
    "# - or -\n",
    "model.train()"
   ]
  },
  {
   "cell_type": "markdown",
   "id": "0aa2acf1",
   "metadata": {},
   "source": [
    "在运行推理之前，您必须调用 model.eval() 将 dropout 和批量归一化层设置为评估模式。 不这样做会产生不一致的推理结果。\n",
    "\n",
    "如果您希望恢复训练，请调用 model.train() 以确保这些层处于训练模式。\n",
    "\n",
    "恭喜！ 您已成功保存并加载了一个通用检查点，用于在 PyTorch 中进行推理和/或恢复训练。"
   ]
  },
  {
   "cell_type": "code",
   "execution_count": null,
   "id": "d0fbba8c",
   "metadata": {},
   "outputs": [],
   "source": []
  }
 ],
 "metadata": {
  "kernelspec": {
   "display_name": "Python [conda env:torch19]",
   "language": "python",
   "name": "conda-env-torch19-py"
  },
  "language_info": {
   "codemirror_mode": {
    "name": "ipython",
    "version": 3
   },
   "file_extension": ".py",
   "mimetype": "text/x-python",
   "name": "python",
   "nbconvert_exporter": "python",
   "pygments_lexer": "ipython3",
   "version": "3.9.2"
  }
 },
 "nbformat": 4,
 "nbformat_minor": 5
}
