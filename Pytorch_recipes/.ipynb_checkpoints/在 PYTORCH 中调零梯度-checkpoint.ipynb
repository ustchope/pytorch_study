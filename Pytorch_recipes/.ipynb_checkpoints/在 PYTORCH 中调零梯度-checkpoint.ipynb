{
 "cells": [
  {
   "cell_type": "code",
   "execution_count": 1,
   "id": "5472679e",
   "metadata": {},
   "outputs": [
    {
     "name": "stdout",
     "output_type": "stream",
     "text": [
      "time: 280 ms (started: 2021-09-05 15:30:03 +08:00)\n"
     ]
    }
   ],
   "source": [
    "# 自动计算cell的计算时间\n",
    "%load_ext autotime\n",
    "\n",
    "%matplotlib inline\n",
    "%config InlineBackend.figure_format='svg' #矢量图设置，让绘图更清晰"
   ]
  },
  {
   "cell_type": "code",
   "execution_count": null,
   "id": "70af1d54",
   "metadata": {},
   "outputs": [],
   "source": [
    "%%bash\n",
    "\n",
    "# 增加更新\n",
    "git add *.ipynb */*.ipynb\n",
    "\n",
    "git remote -v\n",
    "\n",
    "git commit -m '更新 #3 Sept 05, 2021'\n",
    "\n",
    "#git push origin master\n",
    "git push"
   ]
  },
  {
   "cell_type": "markdown",
   "id": "37119a0f",
   "metadata": {},
   "source": [
    "在构建神经网络时将梯度归零是有益的。这是因为默认情况下，每当调用 .backward() 时，梯度都会在缓冲区中累积（即不会被覆盖）。\n",
    "\n",
    "# 介绍\n",
    "\n",
    "在训练神经网络时，模型能够通过梯度下降来提高其准确性。简而言之，梯度下降是通过调整模型中的权重和偏差来最小化损失（或错误）的过程。\n",
    "\n",
    "torch.Tensor 是 PyTorch 的核心类。创建张量时，如果将其属性 .requires_grad 设置为 True，则该包会跟踪对其进行的所有操作。这发生在随后的向后传递中。此张量的梯度将累积到 .grad 属性中。当在损失张量上调用 .backward() 时，计算所有梯度的累积（或总和）。\n",
    "\n",
    "在某些情况下，可能需要将张量的梯度归零。例如：当您开始训练循环时，您应该将梯度归零，以便您可以正确执行此跟踪。在这个秘籍中，我们将学习如何使用 PyTorch 库将梯度归零。我们将通过在 PyTorch 内置的 CIFAR10 数据集上训练神经网络来演示如何做到这一点。"
   ]
  },
  {
   "cell_type": "markdown",
   "id": "88701498",
   "metadata": {},
   "source": [
    "# 步骤\n",
    "\n",
    "步骤 1 到 4 设置我们的数据和神经网络以进行训练。 将梯度归零的过程发生在第 5 步。如果您已经构建了数据和神经网络，请跳至第 5 步。\n",
    "* 导入所有必要的库以加载我们的数据\n",
    "* 加载和规范化数据集\n",
    "* 构建神经网络\n",
    "* 定义损失函数\n",
    "* 训练网络时将梯度归零"
   ]
  },
  {
   "cell_type": "markdown",
   "id": "83885106",
   "metadata": {},
   "source": [
    "1. 导入必要的库来加载我们的数据\n",
    "\n",
    "对于这个秘籍，我们将只使用 torch 和 torchvision 来访问数据集。"
   ]
  },
  {
   "cell_type": "code",
   "execution_count": 2,
   "id": "b6d06a42",
   "metadata": {},
   "outputs": [
    {
     "name": "stdout",
     "output_type": "stream",
     "text": [
      "time: 744 ms (started: 2021-09-05 15:30:07 +08:00)\n"
     ]
    }
   ],
   "source": [
    "import torch\n",
    "\n",
    "import torch.nn as nn\n",
    "import torch.nn.functional as F\n",
    "\n",
    "import torch.optim as optim\n",
    "\n",
    "import torchvision\n",
    "import torchvision.transforms as transforms"
   ]
  },
  {
   "cell_type": "markdown",
   "id": "5234f308",
   "metadata": {},
   "source": [
    "2. 加载和规范化数据集\n",
    "\n",
    "PyTorch 具有各种内置数据集（有关更多信息，请参阅加载数据配方）。"
   ]
  },
  {
   "cell_type": "code",
   "execution_count": 5,
   "id": "a8cec95b",
   "metadata": {},
   "outputs": [
    {
     "name": "stdout",
     "output_type": "stream",
     "text": [
      "Using downloaded and verified file: ./data/cifar-10-python.tar.gz\n",
      "Extracting ./data/cifar-10-python.tar.gz to ./data\n",
      "Files already downloaded and verified\n",
      "time: 3.11 s (started: 2021-09-05 18:54:36 +08:00)\n"
     ]
    }
   ],
   "source": [
    "transform = transforms.Compose(\n",
    "    [transforms.ToTensor(),\n",
    "     transforms.Normalize((0.5, 0.5, 0.5), (0.5, 0.5, 0.5))])\n",
    "\n",
    "trainset = torchvision.datasets.CIFAR10(root='./data', train=True,\n",
    "                                        download=True, transform=transform)\n",
    "trainloader = torch.utils.data.DataLoader(trainset, batch_size=4,\n",
    "                                          shuffle=True, num_workers=2)\n",
    "\n",
    "testset = torchvision.datasets.CIFAR10(root='./data', train=False,\n",
    "                                       download=True, transform=transform)\n",
    "testloader = torch.utils.data.DataLoader(testset, batch_size=4,\n",
    "                                         shuffle=False, num_workers=2)\n",
    "\n",
    "classes = ('plane', 'car', 'bird', 'cat',\n",
    "           'deer', 'dog', 'frog', 'horse', 'ship', 'truck')"
   ]
  },
  {
   "cell_type": "markdown",
   "id": "4f4947f2",
   "metadata": {},
   "source": [
    "3. 构建神经网络\n",
    "\n",
    "我们将使用卷积神经网络。 要了解更多信息，请参阅定义神经网络食谱。"
   ]
  },
  {
   "cell_type": "code",
   "execution_count": null,
   "id": "58abb6fc",
   "metadata": {},
   "outputs": [],
   "source": []
  }
 ],
 "metadata": {
  "kernelspec": {
   "display_name": "Python [conda env:torch19]",
   "language": "python",
   "name": "conda-env-torch19-py"
  },
  "language_info": {
   "codemirror_mode": {
    "name": "ipython",
    "version": 3
   },
   "file_extension": ".py",
   "mimetype": "text/x-python",
   "name": "python",
   "nbconvert_exporter": "python",
   "pygments_lexer": "ipython3",
   "version": "3.9.2"
  },
  "toc-autonumbering": true
 },
 "nbformat": 4,
 "nbformat_minor": 5
}
