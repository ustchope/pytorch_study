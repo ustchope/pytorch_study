{
 "cells": [
  {
   "cell_type": "code",
   "execution_count": 1,
   "id": "bf2904e6",
   "metadata": {},
   "outputs": [
    {
     "name": "stdout",
     "output_type": "stream",
     "text": [
      "time: 276 ms (started: 2021-09-05 14:03:13 +08:00)\n"
     ]
    }
   ],
   "source": [
    "# 自动计算cell的计算时间\n",
    "%load_ext autotime\n",
    "\n",
    "%matplotlib inline\n",
    "%config InlineBackend.figure_format='svg' #矢量图设置，让绘图更清晰"
   ]
  },
  {
   "cell_type": "code",
   "execution_count": null,
   "id": "67bb37e7",
   "metadata": {},
   "outputs": [],
   "source": [
    "%%bash\n",
    "\n",
    "# 增加更新\n",
    "git add *.ipynb */*.ipynb\n",
    "\n",
    "git remote -v\n",
    "\n",
    "git commit -m '更新 #3 Sept 05, 2021'\n",
    "\n",
    "#git push origin master\n",
    "git push"
   ]
  },
  {
   "cell_type": "markdown",
   "id": "d6b7b0bf",
   "metadata": {},
   "source": [
    "部分加载模型或加载部分模型是迁移学习或训练新的复杂模型时的常见场景。 利用经过训练的参数，即使只有少数可用，也将有助于热启动训练过程，并有望帮助您的模型比从头开始训练更快地收敛。\n",
    "\n",
    "# 介绍\n",
    "\n",
    "无论您是从缺少一些键的部分 `state_dict` 加载，还是加载比您加载的模型更多键的 `state_dict`，您都可以在 `load_state_dict()` 函数中将严格参数设置为 `False` 以忽略不匹配 键。 在这个秘籍中，我们将尝试使用不同模型的参数热启动模型。"
   ]
  },
  {
   "cell_type": "markdown",
   "id": "585485bd",
   "metadata": {},
   "source": [
    "# 步骤\n",
    "* 导入所有必要的库以加载我们的数据\n",
    "* 定义并初始化神经网络 A 和 B\n",
    "* 保存模型 A\n",
    "* 装入模型 B\n",
    "\n",
    "1. 导入必要的库来加载我们的数据\n",
    "\n",
    "对于这个秘籍，我们将使用 torch 及其子模块 torch.nn 和 torch.optim。"
   ]
  },
  {
   "cell_type": "code",
   "execution_count": 2,
   "id": "d006ec4f",
   "metadata": {},
   "outputs": [
    {
     "name": "stdout",
     "output_type": "stream",
     "text": [
      "time: 701 ms (started: 2021-09-05 14:04:56 +08:00)\n"
     ]
    }
   ],
   "source": [
    "import torch\n",
    "import torch.nn as nn\n",
    "import torch.optim as optim"
   ]
  },
  {
   "cell_type": "markdown",
   "id": "ca87d032",
   "metadata": {},
   "source": [
    "2. 定义并初始化神经网络A和B\n",
    "\n",
    "例如，我们将创建一个用于训练图像的神经网络。 要了解更多信息，请参阅定义神经网络食谱。 我们将创建两个神经网络，以便将类型 A 的一个参数加载到类型 B 中。"
   ]
  },
  {
   "cell_type": "code",
   "execution_count": 3,
   "id": "afc39c36",
   "metadata": {},
   "outputs": [
    {
     "name": "stdout",
     "output_type": "stream",
     "text": [
      "time: 31.4 ms (started: 2021-09-05 14:05:39 +08:00)\n"
     ]
    }
   ],
   "source": [
    "class NetA(nn.Module):\n",
    "    def __init__(self):\n",
    "        super(NetA, self).__init__()\n",
    "        self.conv1 = nn.Conv2d(3, 6, 5)\n",
    "        self.pool = nn.MaxPool2d(2, 2)\n",
    "        self.conv2 = nn.Conv2d(6, 16, 5)\n",
    "        self.fc1 = nn.Linear(16 * 5 * 5, 120)\n",
    "        self.fc2 = nn.Linear(120, 84)\n",
    "        self.fc3 = nn.Linear(84, 10)\n",
    "\n",
    "    def forward(self, x):\n",
    "        x = self.pool(F.relu(self.conv1(x)))\n",
    "        x = self.pool(F.relu(self.conv2(x)))\n",
    "        x = x.view(-1, 16 * 5 * 5)\n",
    "        x = F.relu(self.fc1(x))\n",
    "        x = F.relu(self.fc2(x))\n",
    "        x = self.fc3(x)\n",
    "        return x\n",
    "\n",
    "netA = NetA()\n",
    "\n",
    "class NetB(nn.Module):\n",
    "    def __init__(self):\n",
    "        super(NetB, self).__init__()\n",
    "        self.conv1 = nn.Conv2d(3, 6, 5)\n",
    "        self.pool = nn.MaxPool2d(2, 2)\n",
    "        self.conv2 = nn.Conv2d(6, 16, 5)\n",
    "        self.fc1 = nn.Linear(16 * 5 * 5, 120)\n",
    "        self.fc2 = nn.Linear(120, 84)\n",
    "        self.fc3 = nn.Linear(84, 10)\n",
    "\n",
    "    def forward(self, x):\n",
    "        x = self.pool(F.relu(self.conv1(x)))\n",
    "        x = self.pool(F.relu(self.conv2(x)))\n",
    "        x = x.view(-1, 16 * 5 * 5)\n",
    "        x = F.relu(self.fc1(x))\n",
    "        x = F.relu(self.fc2(x))\n",
    "        x = self.fc3(x)\n",
    "        return x\n",
    "\n",
    "netB = NetB()"
   ]
  },
  {
   "cell_type": "markdown",
   "id": "819b7644",
   "metadata": {},
   "source": [
    "3. 保存模型 A"
   ]
  },
  {
   "cell_type": "code",
   "execution_count": 4,
   "id": "68f20cd3",
   "metadata": {},
   "outputs": [
    {
     "name": "stdout",
     "output_type": "stream",
     "text": [
      "time: 4.35 ms (started: 2021-09-05 14:06:19 +08:00)\n"
     ]
    }
   ],
   "source": [
    "# Specify a path to save to\n",
    "PATH = \"model.pt\"\n",
    "\n",
    "torch.save(netA.state_dict(), PATH)"
   ]
  },
  {
   "cell_type": "markdown",
   "id": "23583ac9",
   "metadata": {},
   "source": [
    "4. 装入模型 B\n",
    "\n",
    "如果要将参数从一层加载到另一层，但某些键不匹配，只需更改要加载的 `state_dict` 中参数键的名称，以匹配要加载到的模型中的键。"
   ]
  },
  {
   "cell_type": "code",
   "execution_count": 5,
   "id": "ac32d3ce",
   "metadata": {},
   "outputs": [
    {
     "data": {
      "text/plain": [
       "<All keys matched successfully>"
      ]
     },
     "execution_count": 5,
     "metadata": {},
     "output_type": "execute_result"
    },
    {
     "name": "stdout",
     "output_type": "stream",
     "text": [
      "time: 14.1 ms (started: 2021-09-05 14:06:53 +08:00)\n"
     ]
    }
   ],
   "source": [
    "netB.load_state_dict(torch.load(PATH), strict=False)"
   ]
  },
  {
   "cell_type": "markdown",
   "id": "eccebefc",
   "metadata": {},
   "source": [
    "可以看到所有的key都匹配成功了！\n",
    "\n",
    "恭喜！ 您已使用 PyTorch 中不同模型的参数成功热启动模型。"
   ]
  },
  {
   "cell_type": "code",
   "execution_count": null,
   "id": "c9f62b28",
   "metadata": {},
   "outputs": [],
   "source": []
  }
 ],
 "metadata": {
  "kernelspec": {
   "display_name": "Python [conda env:torch19]",
   "language": "python",
   "name": "conda-env-torch19-py"
  },
  "language_info": {
   "codemirror_mode": {
    "name": "ipython",
    "version": 3
   },
   "file_extension": ".py",
   "mimetype": "text/x-python",
   "name": "python",
   "nbconvert_exporter": "python",
   "pygments_lexer": "ipython3",
   "version": "3.9.2"
  }
 },
 "nbformat": 4,
 "nbformat_minor": 5
}
